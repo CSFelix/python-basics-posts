{
 "cells": [
  {
   "cell_type": "markdown",
   "id": "b86348b0",
   "metadata": {},
   "source": [
    "<h1 align=\"center\">Python Basics 3/6 - Lists Slices and Lambdas</h1>\n",
    "<br />\n",
    "<center><i>Let's learn Python together!!</i></center>\n",
    "\n",
    "----\n",
    "\n",
    "👋 What's up guys, today wee are gonna learn about `lists slices` and `lists lambdas`, two quite advanced Python techniques. Yeah, I am showing you something advanced in a Basic tutorial, you'd better get used to this, because I will do it more times!!).\n",
    "\n",
    "But of course, I will not cover all aspects of this technique, but yes, just the necessary to you be able to walk by yourself. So let's go!"
   ]
  },
  {
   "cell_type": "markdown",
   "id": "4c0c868f",
   "metadata": {},
   "source": [
    "----\n",
    "\n",
    "<h3>0) Lists Slices</h3>\n",
    "\n",
    "If you are not used to the term, `Lists Slices` is the action to literally access elements inside a list, and yes, you may be wondering: *is this so advanced? Are you serious?*. Yes, I'm dead serious!! It's because Python has some different and better ways to access these elements when compared to others Programming Languages. "
   ]
  },
  {
   "cell_type": "code",
   "execution_count": 3,
   "id": "801fc130",
   "metadata": {},
   "outputs": [],
   "source": [
    "#\n",
    "# ---- Lists Slices ----\n",
    "#\n",
    "my_list = [2, 5, 8, 7, 9, 10]\n",
    "\n",
    "first_elemeent = my_list[0]\n",
    "last_element = my_list[-1]\n",
    "\n",
    "pair_indexes_elements = my_list[0::2] # [start, end, steps]"
   ]
  },
  {
   "cell_type": "markdown",
   "id": "7e6fb11b",
   "metadata": {},
   "source": [
    "----\n",
    "\n",
    "<h3>1) Lists Lambdas</h3>\n",
    "\n",
    "If you are used to the modern JavaScript, you probably stumbled upon with `arrow functions` and you quite get used to `Lists Lambdas` faster!!\n",
    "\n",
    "Oh, never have heard about arrow functions? Don't worry, Lists Lambdas is way too easier to understand, behold!"
   ]
  },
  {
   "cell_type": "code",
   "execution_count": 6,
   "id": "4c1128cb",
   "metadata": {},
   "outputs": [],
   "source": [
    "#\n",
    "# ---- Lists Lambdas ----\n",
    "#\n",
    "my_list = [2, 5, 8, 7, 9, 10]\n",
    "\n",
    "pair_elements = [element for element in my_list if element % 2 == 0]\n",
    "odd_elements = [element for element in my_list if element % 2 == 1]\n",
    "\n",
    "power_elements = [element**2 for element in my_list]"
   ]
  },
  {
   "cell_type": "markdown",
   "id": "62dd83ef",
   "metadata": {},
   "source": [
    "----\n",
    "\n",
    "<h3>2) Bonus: Range</h3>\n",
    "\n",
    "`Range` is a built-in function that allows you to create simple arrows following the pattern bellow:\n",
    "\n",
    "```\n",
    "[min_element, max_element, steps]\n",
    "```"
   ]
  },
  {
   "cell_type": "code",
   "execution_count": 7,
   "id": "1c4723f2",
   "metadata": {},
   "outputs": [],
   "source": [
    "#\n",
    "# ---- Range ----\n",
    "#\n",
    "# - creating a ranged list with min value equals to zero and max value equals to 100\n",
    "# - also, the values will be each 3 numbers in a range between 0 - 100 \n",
    "my_ranged_list = range(0, 100, 3)"
   ]
  },
  {
   "cell_type": "markdown",
   "id": "e7f581b0",
   "metadata": {},
   "source": [
    "----\n",
    "\n",
    "Hope you enjoyed! See ya at conditions and loops lesson! 👋"
   ]
  }
 ],
 "metadata": {
  "kernelspec": {
   "display_name": "Python 3 (ipykernel)",
   "language": "python",
   "name": "python3"
  },
  "language_info": {
   "codemirror_mode": {
    "name": "ipython",
    "version": 3
   },
   "file_extension": ".py",
   "mimetype": "text/x-python",
   "name": "python",
   "nbconvert_exporter": "python",
   "pygments_lexer": "ipython3",
   "version": "3.9.13"
  }
 },
 "nbformat": 4,
 "nbformat_minor": 5
}
