{
 "cells": [
  {
   "cell_type": "markdown",
   "id": "81b468fd",
   "metadata": {},
   "source": [
    "<h1 align=\"center\">Python Basics 5/6 - Functions and Lambdas</h1>\n",
    "<br />\n",
    "<center><i>Let's learn Python together!!</i></center>\n",
    "\n",
    "----\n",
    "\n",
    "👋 What's shaking, bacon? Today we are gonna learn about functions and lambdas in Python! So let's get going!!"
   ]
  },
  {
   "cell_type": "markdown",
   "id": "a650d64c",
   "metadata": {},
   "source": [
    "----\n",
    "\n",
    "<h3>0) Functions</h3>\n",
    "\n",
    "Well, as far as my goal here is to show how to create functions and not to explain what are and why to use them, let's get straight to the code!"
   ]
  },
  {
   "cell_type": "code",
   "execution_count": 15,
   "id": "e0a514dd",
   "metadata": {},
   "outputs": [
    {
     "name": "stdout",
     "output_type": "stream",
     "text": [
      "Hello World!\n",
      "Hello World Felix!\n",
      "Hello World ('Felix', 'Goku')!\n",
      "\n",
      "one - Hello World Felix!\n",
      "\n",
      "two - Hello World Goku!\n",
      "\n",
      "three - Hello World Vegeta!\n",
      "\n",
      "four - Hello World Yuji Itadori!\n"
     ]
    }
   ],
   "source": [
    "#\n",
    "# ---- Functions ----\n",
    "#\n",
    "def my_function_without_params(): print(\"Hello World!\")\n",
    "def my_function_with_param(name): print(f\"Hello World {name}!\")\n",
    "def my_function_with_unlimited_params(*names): print(f\"Hello World {names}!\")\n",
    "def my_function_with_unlimited_key_params(**key_names):\n",
    "    for key in key_names:\n",
    "        print(f\"\\n{key} - Hello World {key_names[key]}!\")\n",
    "\n",
    "my_function_without_params()\n",
    "my_function_with_param(\"Felix\")\n",
    "my_function_with_unlimited_params(\"Felix\", \"Goku\")\n",
    "my_function_with_unlimited_key_params(one=\"Felix\", two=\"Goku\", three=\"Vegeta\", four=\"Yuji Itadori\")"
   ]
  },
  {
   "cell_type": "markdown",
   "id": "3fdf0d9a",
   "metadata": {},
   "source": [
    "----\n",
    "\n",
    "<h3>1) Lambdas</h3>\n",
    "\n",
    "Like `array functions` in modern JavaScript, `lambda functions` are a easier way to write simple functions in Python."
   ]
  },
  {
   "cell_type": "code",
   "execution_count": 19,
   "id": "70cae3d0",
   "metadata": {},
   "outputs": [
    {
     "name": "stdout",
     "output_type": "stream",
     "text": [
      "Hello World!\n",
      "Hello World Felix!\n",
      "Hello World ('Felix', 'Goku')!\n",
      "Hello World {'one': 'Felix', 'two': 'Goku', 'three': 'Vegeta', 'four': 'Yuji Itadori'}!\n"
     ]
    }
   ],
   "source": [
    "#\n",
    "# ---- Lambda Functions ----\n",
    "#\n",
    "my_lambda_function_without_params = lambda: print(\"Hello World!\")\n",
    "my_lambda_function_with_param = lambda name: print(f\"Hello World {name}!\")\n",
    "my_lambda_function_with_unlimited_params = lambda *names: print(f\"Hello World {names}!\")\n",
    "my_lambda_function_with_unlimited_key_params = lambda **key_names: print(f\"Hello World {key_names}!\")\n",
    "\n",
    "my_lambda_function_without_params()\n",
    "my_lambda_function_with_param('Felix')\n",
    "my_lambda_function_with_unlimited_params('Felix', 'Goku')\n",
    "my_lambda_function_with_unlimited_key_params(one='Felix', two='Goku', three='Vegeta', four='Yuji Itadori')"
   ]
  },
  {
   "cell_type": "markdown",
   "id": "12711ca8",
   "metadata": {},
   "source": [
    "----\n",
    "\n",
    "Not so hard, is it?\n",
    "\n",
    "In th next post we will cover some tricks and bonuses in Python. See ya! 👋"
   ]
  }
 ],
 "metadata": {
  "kernelspec": {
   "display_name": "Python 3 (ipykernel)",
   "language": "python",
   "name": "python3"
  },
  "language_info": {
   "codemirror_mode": {
    "name": "ipython",
    "version": 3
   },
   "file_extension": ".py",
   "mimetype": "text/x-python",
   "name": "python",
   "nbconvert_exporter": "python",
   "pygments_lexer": "ipython3",
   "version": "3.9.13"
  }
 },
 "nbformat": 4,
 "nbformat_minor": 5
}
