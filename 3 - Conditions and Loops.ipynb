{
 "cells": [
  {
   "cell_type": "markdown",
   "id": "7fa9f936",
   "metadata": {},
   "source": [
    "<h1 align=\"center\">Python Basics 4/6 - Conditions and Loops</h1>\n",
    "<br />\n",
    "<center><i>Let's learn Python together!!</i></center>\n",
    "\n",
    "----\n",
    "\n",
    "👋 Today we are gonna learn about conditions and loops in Python! This lesson is shorter than the previous ones, so let's spare 5 minutes!!"
   ]
  },
  {
   "cell_type": "markdown",
   "id": "aaec0efd",
   "metadata": {},
   "source": [
    "----\n",
    "\n",
    "<h3>0) Conditions</h3>\n",
    "\n",
    "There is just one condition block in Python: `if-elif-else`!!!!"
   ]
  },
  {
   "cell_type": "code",
   "execution_count": 4,
   "id": "8e44ee12",
   "metadata": {},
   "outputs": [
    {
     "name": "stdout",
     "output_type": "stream",
     "text": [
      "a is equals 4\n",
      "a is equals 4\n",
      "a is greather than or equals c\n"
     ]
    }
   ],
   "source": [
    "#\n",
    "# ---- if-elif-else block ----\n",
    "#\n",
    "a = 4\n",
    "b = 8\n",
    "c = 1\n",
    "\n",
    "if a == 4: print(\"a is equals 4\")\n",
    "    \n",
    "if a != 4: print(\"a is different than 4\")\n",
    "else: print(\"a is equals 4\")\n",
    "    \n",
    "if a > b: print(\"a is greather than b\")\n",
    "elif a >= c: print(\"a is greather than or equals c\")\n",
    "else: print(\"a is smaller than b and c\")"
   ]
  },
  {
   "cell_type": "markdown",
   "id": "20d80438",
   "metadata": {},
   "source": [
    "----\n",
    "\n",
    "<h3>1) Loops</h3>\n",
    "\n",
    "About the Loops, Python has two: `while-block` and `for-block`. Also, `break` keyword is used to force a loop to be stopped, and `continue` keyword is used to skip a iteration."
   ]
  },
  {
   "cell_type": "code",
   "execution_count": 5,
   "id": "2d4a0096",
   "metadata": {},
   "outputs": [
    {
     "name": "stdout",
     "output_type": "stream",
     "text": [
      "0\n",
      "1\n",
      "2\n",
      "3\n",
      "4\n"
     ]
    }
   ],
   "source": [
    "#\n",
    "# ---- while-block ----\n",
    "#\n",
    "n = 0\n",
    "\n",
    "while n < 10:\n",
    "    print(n)\n",
    "    n += 1\n",
    "    if n == 5: break"
   ]
  },
  {
   "cell_type": "code",
   "execution_count": 7,
   "id": "7a58b566",
   "metadata": {},
   "outputs": [
    {
     "name": "stdout",
     "output_type": "stream",
     "text": [
      "0\n",
      "1\n",
      "2\n",
      "3\n",
      "4\n",
      "6\n",
      "7\n",
      "8\n",
      "9\n"
     ]
    }
   ],
   "source": [
    "#\n",
    "# ---- for-block ----\n",
    "#\n",
    "for n in range(10):\n",
    "    if n == 5: continue\n",
    "    print(n)"
   ]
  },
  {
   "cell_type": "markdown",
   "id": "2db4fd50",
   "metadata": {},
   "source": [
    "----\n",
    "\n",
    "Hope you enjoyed! See ya at functions and lambdas lesson! 👋"
   ]
  }
 ],
 "metadata": {
  "kernelspec": {
   "display_name": "Python 3 (ipykernel)",
   "language": "python",
   "name": "python3"
  },
  "language_info": {
   "codemirror_mode": {
    "name": "ipython",
    "version": 3
   },
   "file_extension": ".py",
   "mimetype": "text/x-python",
   "name": "python",
   "nbconvert_exporter": "python",
   "pygments_lexer": "ipython3",
   "version": "3.9.13"
  }
 },
 "nbformat": 4,
 "nbformat_minor": 5
}
