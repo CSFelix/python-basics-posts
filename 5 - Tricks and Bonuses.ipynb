{
 "cells": [
  {
   "cell_type": "markdown",
   "id": "8f312efb",
   "metadata": {},
   "source": [
    "<h1 align=\"center\">Python Basics 6/6 - Tricks and Bonuses</h1>\n",
    "<br />\n",
    "<center><i>Let's learn Python together!!</i></center>\n",
    "\n",
    "----\n",
    "\n",
    "👋 Hoorray!! We have reached our last lesson of `Python Basics`. Today we will cover just cool tricks to save your time in Python. You deverve it!!"
   ]
  },
  {
   "cell_type": "markdown",
   "id": "c0883c68",
   "metadata": {},
   "source": [
    "----\n",
    "\n",
    "<h3>0) Swapping Variables Values</h3>"
   ]
  },
  {
   "cell_type": "code",
   "execution_count": 1,
   "id": "576eb7be",
   "metadata": {},
   "outputs": [
    {
     "name": "stdout",
     "output_type": "stream",
     "text": [
      "a: 4\n",
      "b: 3\n"
     ]
    }
   ],
   "source": [
    "a = 3\n",
    "b = 4\n",
    "a, b = b, a\n",
    "\n",
    "print(f\"a: {a}\")\n",
    "print(f\"b: {b}\")"
   ]
  },
  {
   "cell_type": "markdown",
   "id": "8882381b",
   "metadata": {},
   "source": [
    "----\n",
    "\n",
    "<h3>1) Declaring Variables with Same Values</h3>"
   ]
  },
  {
   "cell_type": "code",
   "execution_count": 3,
   "id": "00248a61",
   "metadata": {},
   "outputs": [
    {
     "name": "stdout",
     "output_type": "stream",
     "text": [
      "a: 5\tb: 5\tc: 5\n",
      "a: 2\tb: 5\tc: 5\n"
     ]
    }
   ],
   "source": [
    "a = b = c = 5\n",
    "print(f\"a: {a}\\tb: {b}\\tc: {c}\")\n",
    "\n",
    "a = 2\n",
    "print(f\"a: {a}\\tb: {b}\\tc: {c}\")"
   ]
  },
  {
   "cell_type": "markdown",
   "id": "9dabc287",
   "metadata": {},
   "source": [
    "----\n",
    "\n",
    "<h3>2) Null Value</h3>"
   ]
  },
  {
   "cell_type": "code",
   "execution_count": 4,
   "id": "67a0a26d",
   "metadata": {},
   "outputs": [
    {
     "name": "stdout",
     "output_type": "stream",
     "text": [
      "None\n"
     ]
    }
   ],
   "source": [
    "a = None\n",
    "print(a)"
   ]
  },
  {
   "cell_type": "markdown",
   "id": "926af06e",
   "metadata": {},
   "source": [
    "----\n",
    "\n",
    "<h3>3) Deleting Variables from Memory</h3>"
   ]
  },
  {
   "cell_type": "code",
   "execution_count": 5,
   "id": "d19d691a",
   "metadata": {},
   "outputs": [
    {
     "name": "stdout",
     "output_type": "stream",
     "text": [
      "a: 5\n"
     ]
    },
    {
     "ename": "NameError",
     "evalue": "name 'a' is not defined",
     "output_type": "error",
     "traceback": [
      "\u001b[1;31m---------------------------------------------------------------------------\u001b[0m",
      "\u001b[1;31mNameError\u001b[0m                                 Traceback (most recent call last)",
      "\u001b[1;32m~\\AppData\\Local\\Temp\\ipykernel_8912\\4046325611.py\u001b[0m in \u001b[0;36m<module>\u001b[1;34m\u001b[0m\n\u001b[0;32m      3\u001b[0m \u001b[1;33m\u001b[0m\u001b[0m\n\u001b[0;32m      4\u001b[0m \u001b[1;32mdel\u001b[0m \u001b[0ma\u001b[0m\u001b[1;33m\u001b[0m\u001b[1;33m\u001b[0m\u001b[0m\n\u001b[1;32m----> 5\u001b[1;33m \u001b[0mprint\u001b[0m\u001b[1;33m(\u001b[0m\u001b[1;34mf\"a: {a}\"\u001b[0m\u001b[1;33m)\u001b[0m\u001b[1;33m\u001b[0m\u001b[1;33m\u001b[0m\u001b[0m\n\u001b[0m",
      "\u001b[1;31mNameError\u001b[0m: name 'a' is not defined"
     ]
    }
   ],
   "source": [
    "a = 5\n",
    "print(f\"a: {a}\")\n",
    "\n",
    "del a\n",
    "print(f\"a: {a}\")"
   ]
  },
  {
   "cell_type": "markdown",
   "id": "f9dfb4eb",
   "metadata": {},
   "source": [
    "----\n",
    "\n",
    "<h3>4) Reversing a String</h3>"
   ]
  },
  {
   "cell_type": "code",
   "execution_count": 10,
   "id": "43da2cf2",
   "metadata": {},
   "outputs": [
    {
     "name": "stdout",
     "output_type": "stream",
     "text": [
      "String: What's shaking, guys?\n",
      "Reversed String: ?syug ,gnikahs s'tahW\n"
     ]
    }
   ],
   "source": [
    "my_string = \"What's shaking, guys?\"\n",
    "my_reversed_string = my_string[::-1]\n",
    "\n",
    "print(f\"String: {my_string}\")\n",
    "print(f\"Reversed String: {my_reversed_string}\")"
   ]
  },
  {
   "cell_type": "markdown",
   "id": "06aebbc9",
   "metadata": {},
   "source": [
    "----\n",
    "\n",
    "<h3>5) Ordering Lists</h3>"
   ]
  },
  {
   "cell_type": "code",
   "execution_count": 19,
   "id": "bfc157b4",
   "metadata": {},
   "outputs": [
    {
     "name": "stdout",
     "output_type": "stream",
     "text": [
      "List: [5, 83, 8, 1, 3, 90, 28, 75, 6]\n",
      "Sorted List: [1, 3, 5, 6, 8, 28, 75, 83, 90]\n"
     ]
    }
   ],
   "source": [
    "my_list = [5, 83, 8, 1, 3, 90, 28, 75, 6]\n",
    "print(f\"List: {my_list}\")\n",
    "\n",
    "my_list.sort()\n",
    "print(f\"Sorted List: {my_list}\")"
   ]
  },
  {
   "cell_type": "markdown",
   "id": "eb190218",
   "metadata": {},
   "source": [
    "----\n",
    "\n",
    "Yeahhhh!! That's all folks!! If you know any othere tricks and tips in Python, feel free to comment this post.\n",
    "\n",
    "See ya!! 👋"
   ]
  }
 ],
 "metadata": {
  "kernelspec": {
   "display_name": "Python 3 (ipykernel)",
   "language": "python",
   "name": "python3"
  },
  "language_info": {
   "codemirror_mode": {
    "name": "ipython",
    "version": 3
   },
   "file_extension": ".py",
   "mimetype": "text/x-python",
   "name": "python",
   "nbconvert_exporter": "python",
   "pygments_lexer": "ipython3",
   "version": "3.9.13"
  }
 },
 "nbformat": 4,
 "nbformat_minor": 5
}
