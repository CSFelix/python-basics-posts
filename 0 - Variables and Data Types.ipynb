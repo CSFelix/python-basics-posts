{
 "cells": [
  {
   "cell_type": "markdown",
   "id": "659349ff",
   "metadata": {},
   "source": [
    "<h1 align=\"center\">Python Basics 1/6 - Variables, Data Types and Operations</h1>\n",
    "<br />\n",
    "<center><i>Let's learn Python together!!</i></center>\n",
    "\n",
    "----\n",
    "\n",
    "👋 What's shaking, bacon? This is the first content of `Python Basics` module. This module does not have the goal to teeach you everything in Python, but to give you a glimpse of how the programming language works and to give you the basic knowledge to kick off your big adventure in Python. So, let's go!\n",
    "\n",
    "In this first class, we are going to learn how to declare variables and constants, what are the basics data types and operations, and how to input and output datas."
   ]
  },
  {
   "cell_type": "markdown",
   "id": "eb35a36d",
   "metadata": {},
   "source": [
    "----\n",
    "\n",
    "<h3>0) Declaring Variables and Constants! Basic Data Types!!</h3>\n",
    "\n",
    "Python has five basics data types: `string`, `integer`, `float`, `boolean` and `complex number`.\n",
    "\n",
    "Besides, you can declare variables using the `=` operator, and encapsule the data by parenthesis `()` to transform a variable to a constant."
   ]
  },
  {
   "cell_type": "code",
   "execution_count": 2,
   "id": "82ce27a3",
   "metadata": {},
   "outputs": [],
   "source": [
    "#\n",
    "# ---- Variables ----\n",
    "#\n",
    "my_string = \"Hello World!\"\n",
    "my_integer = 42\n",
    "my_float = 42.0\n",
    "my_boolean = True # or False\n",
    "my_complex_number = 4 + 2j # yeah, you have to use 'j' instead of 'i'"
   ]
  },
  {
   "cell_type": "code",
   "execution_count": 16,
   "id": "645bdea0",
   "metadata": {},
   "outputs": [],
   "source": [
    "#\n",
    "# ---- Constants ----\n",
    "#\n",
    "MY_STRING_CONST = (\"Hello World!\")\n",
    "MY_INTEGER_CONST = (42)\n",
    "MY_FLOAT_CONST = (42.0)\n",
    "MY_BOOLEAN_CONST = (False)\n",
    "MY_COMPLEX_NUMBER_CONST = (4 + 2j)"
   ]
  },
  {
   "cell_type": "markdown",
   "id": "da568df6",
   "metadata": {},
   "source": [
    "----\n",
    "\n",
    "<h3>1) Basic Operators</h3>\n",
    "\n",
    "Now, let's learn about the `math`, `boolean` and `bitwises` operators."
   ]
  },
  {
   "cell_type": "code",
   "execution_count": 19,
   "id": "3428f83a",
   "metadata": {},
   "outputs": [],
   "source": [
    "#\n",
    "# ---- Math Operators ----\n",
    "#\n",
    "addition = 2 + 2\n",
    "subtraction = 4 - 5\n",
    "multiplication = 8 * 5\n",
    "division = 4 / 2\n",
    "\n",
    "quocient = 3 // 2\n",
    "power = 2 ** 5\n",
    "modulus = 5 % 3"
   ]
  },
  {
   "cell_type": "code",
   "execution_count": 24,
   "id": "e5e29bf8",
   "metadata": {},
   "outputs": [],
   "source": [
    "#\n",
    "# ---- Boolean Operators ----\n",
    "#\n",
    "True and False\n",
    "True or False\n",
    "not True;"
   ]
  },
  {
   "cell_type": "code",
   "execution_count": 39,
   "id": "f2e8237d",
   "metadata": {},
   "outputs": [],
   "source": [
    "#\n",
    "# ---- Bitwise Operators ----\n",
    "#\n",
    "and_bitwise = 5 & 2\n",
    "or_bitwise = 5 | 2\n",
    "xor_bitwise = 5 ^ 2\n",
    "right_shift_bitwise = 5 << 2\n",
    "left_shift_bitwise = 5 >> 2"
   ]
  },
  {
   "cell_type": "markdown",
   "id": "4f3c376f",
   "metadata": {},
   "source": [
    "----\n",
    "\n",
    "<h3>2) Input and Output</h3>\n",
    "\n",
    "For input, we are going to use `input` built-in function, and for output, guess what! We are not going to use output built-in function, because this one does not exist! We are gonna use `print` instead!"
   ]
  },
  {
   "cell_type": "code",
   "execution_count": 40,
   "id": "94a85e7c",
   "metadata": {},
   "outputs": [
    {
     "name": "stdout",
     "output_type": "stream",
     "text": [
      "Type anything:anything LMAO\n"
     ]
    }
   ],
   "source": [
    "#\n",
    "# ---- Input ----\n",
    "#\n",
    "my_input = input(\"Type anything:\")"
   ]
  },
  {
   "cell_type": "code",
   "execution_count": 41,
   "id": "ac292eed",
   "metadata": {},
   "outputs": [
    {
     "name": "stdout",
     "output_type": "stream",
     "text": [
      "My Input: anything LMAO\n"
     ]
    }
   ],
   "source": [
    "#\n",
    "# ---- Output ----\n",
    "#\n",
    "print(f\"My Input: {my_input}\")"
   ]
  },
  {
   "cell_type": "markdown",
   "id": "68580819",
   "metadata": {},
   "source": [
    "----\n",
    "\n",
    "Well, hope you enjoyed this quick guide, and see you on the next one, where we will be learning about more complex data types, such as `lists`, `dictionaries` and `tuples`.\n",
    "\n",
    "See ya! 👋"
   ]
  }
 ],
 "metadata": {
  "kernelspec": {
   "display_name": "Python 3 (ipykernel)",
   "language": "python",
   "name": "python3"
  },
  "language_info": {
   "codemirror_mode": {
    "name": "ipython",
    "version": 3
   },
   "file_extension": ".py",
   "mimetype": "text/x-python",
   "name": "python",
   "nbconvert_exporter": "python",
   "pygments_lexer": "ipython3",
   "version": "3.9.13"
  }
 },
 "nbformat": 4,
 "nbformat_minor": 5
}
