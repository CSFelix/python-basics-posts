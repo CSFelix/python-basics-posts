{
 "cells": [
  {
   "cell_type": "markdown",
   "id": "b00df2ea",
   "metadata": {},
   "source": [
    "<h1 align=\"center\">Python Basics 2/6 - Lists, Dictionaries, Sets and Tuples</h1>\n",
    "<br />\n",
    "<center><i>Let's learn Python together!!</i></center>\n",
    "\n",
    "----\n",
    "\n",
    "👋 Hey guys, in this second quick content, we are gonna learn more data types: `lists`, `dictionaries`, `sets` and `tuples`. The main goal of this content is not to show you everything you can do with this data types, but yes, what they are and when/how to use them!"
   ]
  },
  {
   "cell_type": "markdown",
   "id": "b9700d2d",
   "metadata": {},
   "source": [
    "----\n",
    "\n",
    "<h3>0) Lists</h3>\n",
    "\n",
    "- are declared using brackets [ ];\n",
    "- can store different data types;\n",
    "- can have their values changed;\n",
    "- can store duplicated values;\n",
    "- store just values."
   ]
  },
  {
   "cell_type": "code",
   "execution_count": 1,
   "id": "98081912",
   "metadata": {},
   "outputs": [
    {
     "name": "stdout",
     "output_type": "stream",
     "text": [
      "The whole list: ['hello world', 42, 7.0, True, False]\n",
      "The third element: 7.0\n"
     ]
    }
   ],
   "source": [
    "#\n",
    "# ---- Lists ----\n",
    "#\n",
    "my_list = [\"hello world\", 42, 7.0, True, False]\n",
    "\n",
    "print(f\"The whole list: {my_list}\")\n",
    "print(f\"The third element: {my_list[2]}\")"
   ]
  },
  {
   "cell_type": "markdown",
   "id": "3d0f9fd9",
   "metadata": {},
   "source": [
    "----\n",
    "\n",
    "<h3>1) Dictionaries</h3>\n",
    "\n",
    "- are declared using curly brackets { };\n",
    "- can store different data types;\n",
    "- can have their values changed;\n",
    "- can store duplicated values;\n",
    "- store keys-values pairs."
   ]
  },
  {
   "cell_type": "code",
   "execution_count": 12,
   "id": "40816d7b",
   "metadata": {},
   "outputs": [
    {
     "name": "stdout",
     "output_type": "stream",
     "text": [
      "The whole dictionary: {'anime': \"JoJo's Bizarre Adventure\", 'fav_character': 'Joseph Joestar', 'rate': 10}\n",
      "Anime: JoJo's Bizarre Adventure\n"
     ]
    }
   ],
   "source": [
    "#\n",
    "# ---- Dictionaries ----\n",
    "#\n",
    "my_dict = { \"anime\": \"JoJo's Bizarre Adventure\", \"fav_character\": \"Joseph Joestar\", \"rate\": 10 }\n",
    "\n",
    "print(f\"The whole dictionary: {my_dict}\")\n",
    "print(f\"Anime: {my_dict['anime']}\")"
   ]
  },
  {
   "cell_type": "markdown",
   "id": "9937714c",
   "metadata": {},
   "source": [
    "----\n",
    "\n",
    "<h3>2) Sets</h3>\n",
    "\n",
    "- are declared using the built-in function set( );\n",
    "- can store different data types;\n",
    "- can have their values changed;\n",
    "- cannot store duplicated values;\n",
    "- store just values."
   ]
  },
  {
   "cell_type": "code",
   "execution_count": 18,
   "id": "e8a28b93",
   "metadata": {},
   "outputs": [
    {
     "name": "stdout",
     "output_type": "stream",
     "text": [
      "The whole set: {4, 5.0, 'a'}\n"
     ]
    }
   ],
   "source": [
    "#\n",
    "# ---- Sets ----\n",
    "#\n",
    "my_set = set([\"a\", 4, 5.0, 4.0, 4])\n",
    "\n",
    "print(f\"The whole set: {my_set}\")\n",
    "\n",
    "# it's not possible to use indexes to access sets elements. To do it, you have\n",
    "# to iterate the set until you find the desired element"
   ]
  },
  {
   "cell_type": "markdown",
   "id": "615fd2ac",
   "metadata": {},
   "source": [
    "----\n",
    "\n",
    "<h3>3) Tuples</h3>\n",
    "\n",
    "- are declared using parenthesis ( );\n",
    "- can store different data types;\n",
    "- cannot have their values changed;\n",
    "- can store duplicated values;\n",
    "- store just values."
   ]
  },
  {
   "cell_type": "code",
   "execution_count": 19,
   "id": "638bbc62",
   "metadata": {},
   "outputs": [
    {
     "name": "stdout",
     "output_type": "stream",
     "text": [
      "The whole tuple: ('b', True, 5, 5.0)\n",
      "The second element: True\n"
     ]
    }
   ],
   "source": [
    "#\n",
    "# ---- Tuples ----\n",
    "#\n",
    "my_tuple = (\"b\", True, 5, 5.0)\n",
    "\n",
    "print(f\"The whole tuple: {my_tuple}\")\n",
    "print(f\"The second element: {my_tuple[1]}\")"
   ]
  },
  {
   "cell_type": "markdown",
   "id": "09e7848c",
   "metadata": {},
   "source": [
    "----\n",
    "\n",
    "You got it! 🎉🎉\n",
    "\n",
    "In the next post, we will learn about list slices!!\n",
    "\n",
    "See ya! 👋"
   ]
  }
 ],
 "metadata": {
  "kernelspec": {
   "display_name": "Python 3 (ipykernel)",
   "language": "python",
   "name": "python3"
  },
  "language_info": {
   "codemirror_mode": {
    "name": "ipython",
    "version": 3
   },
   "file_extension": ".py",
   "mimetype": "text/x-python",
   "name": "python",
   "nbconvert_exporter": "python",
   "pygments_lexer": "ipython3",
   "version": "3.9.13"
  }
 },
 "nbformat": 4,
 "nbformat_minor": 5
}
